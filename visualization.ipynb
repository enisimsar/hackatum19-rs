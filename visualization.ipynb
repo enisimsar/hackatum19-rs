{
 "cells": [
  {
   "cell_type": "code",
   "execution_count": 1,
   "metadata": {},
   "outputs": [],
   "source": [
    "import pandas as pd\n",
    "\n",
    "import numpy as np\n",
    "import pandas as pd\n",
    "import matplotlib.cm as cm\n",
    "import matplotlib.pyplot as plt"
   ]
  },
  {
   "cell_type": "code",
   "execution_count": 2,
   "metadata": {},
   "outputs": [
    {
     "data": {
      "text/html": [
       "<div>\n",
       "<style scoped>\n",
       "    .dataframe tbody tr th:only-of-type {\n",
       "        vertical-align: middle;\n",
       "    }\n",
       "\n",
       "    .dataframe tbody tr th {\n",
       "        vertical-align: top;\n",
       "    }\n",
       "\n",
       "    .dataframe thead th {\n",
       "        text-align: right;\n",
       "    }\n",
       "</style>\n",
       "<table border=\"1\" class=\"dataframe\">\n",
       "  <thead>\n",
       "    <tr style=\"text-align: right;\">\n",
       "      <th></th>\n",
       "      <th>seed</th>\n",
       "      <th>base</th>\n",
       "      <th>count</th>\n",
       "      <th>corr</th>\n",
       "      <th>queue</th>\n",
       "    </tr>\n",
       "  </thead>\n",
       "  <tbody>\n",
       "    <tr>\n",
       "      <th>0</th>\n",
       "      <td>1691</td>\n",
       "      <td>1.851882e+06</td>\n",
       "      <td>825340.975998</td>\n",
       "      <td>816013.784845</td>\n",
       "      <td>7.702969e+05</td>\n",
       "    </tr>\n",
       "    <tr>\n",
       "      <th>1</th>\n",
       "      <td>1623</td>\n",
       "      <td>2.075115e+06</td>\n",
       "      <td>815010.727197</td>\n",
       "      <td>786182.075563</td>\n",
       "      <td>1.215736e+06</td>\n",
       "    </tr>\n",
       "    <tr>\n",
       "      <th>2</th>\n",
       "      <td>1367</td>\n",
       "      <td>1.505252e+06</td>\n",
       "      <td>690464.757221</td>\n",
       "      <td>630086.528577</td>\n",
       "      <td>5.904119e+05</td>\n",
       "    </tr>\n",
       "    <tr>\n",
       "      <th>3</th>\n",
       "      <td>1746</td>\n",
       "      <td>7.080163e+05</td>\n",
       "      <td>287846.008286</td>\n",
       "      <td>328126.139282</td>\n",
       "      <td>7.080415e+05</td>\n",
       "    </tr>\n",
       "    <tr>\n",
       "      <th>4</th>\n",
       "      <td>299</td>\n",
       "      <td>1.552671e+06</td>\n",
       "      <td>789296.687638</td>\n",
       "      <td>708789.054566</td>\n",
       "      <td>5.994691e+05</td>\n",
       "    </tr>\n",
       "  </tbody>\n",
       "</table>\n",
       "</div>"
      ],
      "text/plain": [
       "   seed          base          count           corr         queue\n",
       "0  1691  1.851882e+06  825340.975998  816013.784845  7.702969e+05\n",
       "1  1623  2.075115e+06  815010.727197  786182.075563  1.215736e+06\n",
       "2  1367  1.505252e+06  690464.757221  630086.528577  5.904119e+05\n",
       "3  1746  7.080163e+05  287846.008286  328126.139282  7.080415e+05\n",
       "4   299  1.552671e+06  789296.687638  708789.054566  5.994691e+05"
      ]
     },
     "execution_count": 2,
     "metadata": {},
     "output_type": "execute_result"
    }
   ],
   "source": [
    "df = pd.read_csv('time_course_results.csv')\n",
    "\n",
    "df.head()"
   ]
  },
  {
   "cell_type": "code",
   "execution_count": 3,
   "metadata": {},
   "outputs": [],
   "source": [
    "area = []\n",
    "colors = []\n",
    "x = []\n",
    "y = []\n",
    "label = []\n",
    "\n",
    "labels = ['baseline', 'count', 'corr', 'queue']\n",
    "\n",
    "values = df.sample(10).values\n",
    "for i in range(values.shape[0]):\n",
    "    for j in range(1, values.shape[1]):\n",
    "        colors.append(j % 5 / 5)\n",
    "        x.append(i)\n",
    "        y.append(values[i][j] / 20000)\n",
    "        area.append(np.log(values[i][0]) * 25)\n",
    "        label.append(labels[j % 5 - 1])"
   ]
  },
  {
   "cell_type": "code",
   "execution_count": 4,
   "metadata": {},
   "outputs": [
    {
     "data": {
      "image/png": "[encoded data removed]",
      "text/plain": [
       "<Figure size 864x432 with 1 Axes>"
      ]
     },
     "metadata": {
      "needs_background": "light"
     },
     "output_type": "display_data"
    }
   ],
   "source": [
    "params = {'legend.fontsize': 16,\n",
    "          'legend.handlelength': 2}\n",
    "plt.rcParams.update(params)\n",
    "\n",
    "#loading dataset\n",
    "def scatterplot(df, x, y, categories, area):\n",
    "    fig, ax = plt.subplots(figsize=(12, 6))\n",
    "    #assigns a color to each data point\n",
    "    colors = ['#e6194b', '#3cb44b', '#ffe119', '#4363d8']\n",
    "    #iterates through the dataset plotting each data point and assigning it its corresponding color and label\n",
    "    for i in range(len(x)):\n",
    "        ax.scatter(x[i], y[i], alpha=0.70, color = colors[i%len(colors)], label=categories[i], s=area[i])\n",
    "    #adds title and axes labels\n",
    "    ax.set_xlabel('Device Type')\n",
    "    ax.set_ylabel('DUT Time')\n",
    "    #removing top and right borders\n",
    "    ax.spines['top'].set_visible(False)\n",
    "    ax.spines['right'].set_visible(False)\n",
    "    #adds major gridlines\n",
    "    ax.grid(color='grey', linestyle='-', linewidth=0.25, alpha=0.5)\n",
    "    #adds legend\n",
    "    ax.legend(np.unique(categories))\n",
    "    \n",
    "    plt.savefig('vis.png')\n",
    "    \n",
    "    plt.show()\n",
    "scatterplot(df, x, y, label, area)"
   ]
  }
 ],
 "metadata": {
  "kernelspec": {
   "display_name": "Python 3",
   "language": "python",
   "name": "python3"
  },
  "language_info": {
   "codemirror_mode": {
    "name": "ipython",
    "version": 3
   },
   "file_extension": ".py",
   "mimetype": "text/x-python",
   "name": "python",
   "nbconvert_exporter": "python",
   "pygments_lexer": "ipython3",
   "version": "3.7.3"
  }
 },
 "nbformat": 4,
 "nbformat_minor": 4
}
