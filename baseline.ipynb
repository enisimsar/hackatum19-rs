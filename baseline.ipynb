{
 "cells": [
  {
   "cell_type": "code",
   "execution_count": 1,
   "metadata": {},
   "outputs": [],
   "source": [
    "import time\n",
    "from DUT import DUT\n",
    "import matplotlib.pyplot as plt\n",
    "import numpy as np\n",
    "import json\n",
    "import sys"
   ]
  },
  {
   "cell_type": "code",
   "execution_count": 2,
   "metadata": {},
   "outputs": [
    {
     "data": {
      "text/plain": [
       "array([40,  2])"
      ]
     },
     "execution_count": 2,
     "metadata": {},
     "output_type": "execute_result"
    }
   ],
   "source": [
    "my_dut = DUT(20, True, 3.2)\n",
    "\n",
    "my_dut.defected_meas"
   ]
  },
  {
   "cell_type": "code",
   "execution_count": 3,
   "metadata": {},
   "outputs": [
    {
     "name": "stdout",
     "output_type": "stream",
     "text": [
      "DUT: meas. time=  128.43814099999997  | measurements=  45  | ports=  12  | expected yield =  3.2\n"
     ]
    }
   ],
   "source": [
    "meastime, nmeas, nport, meas, ports, expyield = my_dut.info()\n",
    "print(\"DUT: meas. time= \", meastime, \" | measurements= \", nmeas, \" | ports= \", nport, \" | expected yield = \", expyield)"
   ]
  },
  {
   "cell_type": "code",
   "execution_count": 4,
   "metadata": {},
   "outputs": [
    {
     "name": "stdout",
     "output_type": "stream",
     "text": [
      "Calibration at  0.1  took  532.1566359999999  seconds.\n",
      "Calibration at  61151.27853100077  took  532.1566359999999  seconds.\n",
      "Calibration at  122614.4770180065  took  532.1566359999999  seconds.\n",
      "Calibration at  184496.5206400161  took  532.1566359999999  seconds.\n",
      "Calibration at  245693.0115680265  took  532.1566359999999  seconds.\n",
      "Calibration at  307608.49596999836  took  532.1566359999999  seconds.\n",
      "Calibration at  369000.70101795666  took  532.1566359999999  seconds.\n",
      "Calibration at  430807.38640691485  took  532.1566359999999  seconds.\n",
      "Calibration at  491908.1837528741  took  532.1566359999999  seconds.\n",
      "Calibration at  554120.7952228454  took  532.1566359999999  seconds.\n",
      "Calibration at  616536.4202848314  took  532.1566359999999  seconds.\n",
      "Calibration at  679061.4904678173  took  532.1566359999999  seconds.\n",
      "Calibration at  739875.9393398035  took  532.1566359999999  seconds.\n",
      "Calibration at  801118.8043647893  took  532.1566359999999  seconds.\n",
      "Calibration at  863090.807723775  took  532.1566359999999  seconds.\n",
      "Calibration at  924336.0666787608  took  532.1566359999999  seconds.\n",
      "Calibration at  986012.868125747  took  532.1566359999999  seconds.\n",
      "Calibration at  1048381.9438947329  took  532.1566359999999  seconds.\n",
      "Calibration at  1110557.41488399  took  532.1566359999999  seconds.\n",
      "Calibration at  1172967.8615562487  took  532.1566359999999  seconds.\n",
      "Calibration at  1234927.1300855032  took  532.1566359999999  seconds.\n",
      "Calibration at  1297118.9487617612  took  532.1566359999999  seconds.\n",
      "Calibration at  1358577.1632930166  took  532.1566359999999  seconds.\n",
      "Calibration at  1419881.572768269  took  532.1566359999999  seconds.\n",
      "Calibration at  1481490.099419525  took  532.1566359999999  seconds.\n",
      "Calibration at  1542753.1185047773  took  532.1566359999999  seconds.\n",
      "Calibration at  1604789.3053620337  took  532.1566359999999  seconds.\n",
      "Calibration at  1666917.3315142926  took  532.1566359999999  seconds.\n",
      "Calibration at  1729455.5025295524  took  532.1566359999999  seconds.\n",
      "Calibration at  1792015.122493814  took  532.1566359999999  seconds.\n",
      "Calibration at  1854059.2280450722  took  532.1566359999999  seconds.\n",
      "Calibration at  1916708.6384933328  took  532.1566359999999  seconds.\n",
      "Calibration at  1978511.1829475875  took  532.1566359999999  seconds.\n",
      "Calibration at  2040020.4904058434  took  532.1566359999999  seconds.\n",
      "Calibration at  2101526.3597630505  took  532.1566359999999  seconds.\n",
      "Calibration at  2164161.437640661  took  532.1566359999999  seconds.\n",
      "Calibration at  2225953.8551042816  took  532.1566359999999  seconds.\n",
      "Calibration at  2287918.332331903  took  532.1566359999999  seconds.\n",
      "Calibration at  2349798.3065465223  took  532.1566359999999  seconds.\n",
      "Calibration at  2411916.585147136  took  532.1566359999999  seconds.\n"
     ]
    }
   ],
   "source": [
    "error_count = 0\n",
    "X = []\n",
    "Y = []\n",
    "t=0\n",
    "\n",
    "data= {}\n",
    "data['component']=[]\n",
    "\n",
    "meas_fails = []\n",
    "\n",
    "for x in range(20000):\n",
    "    my_dut.new_dut()\n",
    "    dut={}\n",
    "    dut['dut_id'] = x\n",
    "    dut['measurements']=[]\n",
    "\n",
    "    if x % 500 == 0:\n",
    "        my_dut.calibrate()\n",
    "\n",
    "    for i in range(0, nmeas):\n",
    "        t, result, dist = my_dut.gen_meas_idx(i)\n",
    "        measurement = {}\n",
    "        measurement['m_id'] = i\n",
    "        measurement['m_time'] = meas[i].meas_time\n",
    "        measurement['m_result'] = dist\n",
    "        dut['measurements'].append(measurement)\n",
    "        \n",
    "        if dist > 1.0: meas_fails.append(i)\n",
    "            \n",
    "        if result == False:\n",
    "            break\n",
    "\n",
    "    t, res, dist = my_dut.get_result()\n",
    "    dut['dut_result'] = res\n",
    "\n",
    "    data['component'].append(dut)\n",
    "\n",
    "    X.append(t)\n",
    "    Y.append(dist)\n",
    "    if not res:\n",
    "        error_count += 1"
   ]
  },
  {
   "cell_type": "code",
   "execution_count": 5,
   "metadata": {},
   "outputs": [
    {
     "name": "stdout",
     "output_type": "stream",
     "text": [
      "Total:  2474212.8769407533 s  20000  (  2016  |  1889  |  2016  ) ==>  0.8992\n"
     ]
    },
    {
     "data": {
      "image/png": "[encoded data removed]",
      "text/plain": [
       "<Figure size 432x288 with 1 Axes>"
      ]
     },
     "metadata": {
      "needs_background": "light"
     },
     "output_type": "display_data"
    }
   ],
   "source": [
    "error_dut, error_meas = my_dut.get_errordutcount()\n",
    "print(\"Total: \",t, \"s \", x+1, \" ( \", error_count, \" | \", error_dut, \" | \", error_meas, \" ) ==> \", (x+1-error_count)/(x+1) )\n",
    "\n",
    "# write json log\n",
    "# outfile = open('result.json', 'w')\n",
    "# json.dump(data, outfile, indent=2)\n",
    "\n",
    "# plot results\n",
    "timeAxis = [x / 3600. for x in X]\n",
    "plt.xlabel('time [h]')\n",
    "plt.plot(timeAxis,Y)\n",
    "plt.axhline(y=1., xmin=0, xmax=1, color='r')\n",
    "plt.show()"
   ]
  }
 ],
 "metadata": {
  "kernelspec": {
   "display_name": "Python 3",
   "language": "python",
   "name": "python3"
  },
  "language_info": {
   "codemirror_mode": {
    "name": "ipython",
    "version": 3
   },
   "file_extension": ".py",
   "mimetype": "text/x-python",
   "name": "python",
   "nbconvert_exporter": "python",
   "pygments_lexer": "ipython3",
   "version": "3.7.3"
  }
 },
 "nbformat": 4,
 "nbformat_minor": 4
}
