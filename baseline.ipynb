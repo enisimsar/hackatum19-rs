{
 "cells": [
  {
   "cell_type": "code",
   "execution_count": 1,
   "metadata": {},
   "outputs": [],
   "source": [
    "import time\n",
    "from DUT import DUT\n",
    "import matplotlib.pyplot as plt\n",
    "import numpy as np\n",
    "import json\n",
    "import sys"
   ]
  },
  {
   "cell_type": "code",
   "execution_count": 2,
   "metadata": {},
   "outputs": [
    {
     "data": {
      "text/plain": [
       "array([40,  2])"
      ]
     },
     "execution_count": 2,
     "metadata": {},
     "output_type": "execute_result"
    }
   ],
   "source": [
    "my_dut = DUT(20, True, 3.2)\n",
    "\n",
    "my_dut.defected_meas"
   ]
  },
  {
   "cell_type": "code",
   "execution_count": 3,
   "metadata": {},
   "outputs": [
    {
     "name": "stdout",
     "output_type": "stream",
     "text": [
      "DUT: meas. time=  128.43814099999997  | measurements=  45  | ports=  12  | expected yield =  3.2\n"
     ]
    }
   ],
   "source": [
    "meastime, nmeas, nport, meas, ports, expyield = my_dut.info()\n",
    "print(\"DUT: meas. time= \", meastime, \" | measurements= \", nmeas, \" | ports= \", nport, \" | expected yield = \", expyield)"
   ]
  },
  {
   "cell_type": "code",
   "execution_count": 4,
   "metadata": {},
   "outputs": [
    {
     "name": "stdout",
     "output_type": "stream",
     "text": [
      "Calibration at  0.1  took  532.1566359999999  seconds.\n",
      "Calibration at  64801.327136000895  took  532.1566359999999  seconds.\n",
      "Calibration at  129602.55427200679  took  532.1566359999999  seconds.\n",
      "Calibration at  194403.78140801992  took  532.1566359999999  seconds.\n",
      "Calibration at  259205.0085440331  took  532.1566359999999  seconds.\n",
      "Calibration at  324006.2356799901  took  532.1566359999999  seconds.\n",
      "Calibration at  388807.4628159451  took  532.1566359999999  seconds.\n",
      "Calibration at  453608.6899519001  took  532.1566359999999  seconds.\n",
      "Calibration at  518409.9170878551  took  532.1566359999999  seconds.\n",
      "Calibration at  583211.1442238368  took  532.1566359999999  seconds.\n",
      "Calibration at  648012.371359821  took  532.1566359999999  seconds.\n",
      "Calibration at  712813.598495805  took  532.1566359999999  seconds.\n",
      "Calibration at  777614.8256317892  took  532.1566359999999  seconds.\n",
      "Calibration at  842416.0527677733  took  532.1566359999999  seconds.\n",
      "Calibration at  907217.2799037574  took  532.1566359999999  seconds.\n",
      "Calibration at  972018.5070397415  took  532.1566359999999  seconds.\n",
      "Calibration at  1036819.7341757256  took  532.1566359999999  seconds.\n",
      "Calibration at  1101620.9613119503  took  532.1566359999999  seconds.\n",
      "Calibration at  1166422.1884482254  took  532.1566359999999  seconds.\n",
      "Calibration at  1231223.4155845004  took  532.1566359999999  seconds.\n",
      "Calibration at  1296024.6427207754  took  532.1566359999999  seconds.\n",
      "Calibration at  1360825.8698570505  took  532.1566359999999  seconds.\n",
      "Calibration at  1425627.0969933255  took  532.1566359999999  seconds.\n",
      "Calibration at  1490428.3241296005  took  532.1566359999999  seconds.\n",
      "Calibration at  1555229.5512658756  took  532.1566359999999  seconds.\n",
      "Calibration at  1620030.7784021506  took  532.1566359999999  seconds.\n",
      "Calibration at  1684832.0055384256  took  532.1566359999999  seconds.\n",
      "Calibration at  1749633.2326747007  took  532.1566359999999  seconds.\n",
      "Calibration at  1814434.4598109757  took  532.1566359999999  seconds.\n",
      "Calibration at  1879235.6869472507  took  532.1566359999999  seconds.\n",
      "Calibration at  1944036.9140835258  took  532.1566359999999  seconds.\n",
      "Calibration at  2008838.1412198008  took  532.1566359999999  seconds.\n",
      "Calibration at  2073639.3683560758  took  532.1566359999999  seconds.\n",
      "Calibration at  2138440.595491901  took  532.1566359999999  seconds.\n",
      "Calibration at  2203241.822627478  took  532.1566359999999  seconds.\n",
      "Calibration at  2268043.0497630546  took  532.1566359999999  seconds.\n",
      "Calibration at  2332844.2768986314  took  532.1566359999999  seconds.\n",
      "Calibration at  2397645.504034208  took  532.1566359999999  seconds.\n",
      "Calibration at  2462446.731169785  took  532.1566359999999  seconds.\n",
      "Calibration at  2527247.9583053617  took  532.1566359999999  seconds.\n"
     ]
    }
   ],
   "source": [
    "error_count = 0\n",
    "X = []\n",
    "Y = []\n",
    "t=0\n",
    "\n",
    "data= {}\n",
    "data['component']=[]\n",
    "\n",
    "meas_fails = []\n",
    "\n",
    "for x in range(20000):\n",
    "    my_dut.new_dut()\n",
    "    dut={}\n",
    "    dut['dut_id'] = x\n",
    "    dut['measurements']=[]\n",
    "\n",
    "    if x % 500 == 0:\n",
    "        my_dut.calibrate()\n",
    "\n",
    "    for i in range(0, nmeas):\n",
    "        t, result, dist = my_dut.gen_meas_idx(i)\n",
    "        measurement = {}\n",
    "        measurement['m_id'] = i\n",
    "        measurement['m_time'] = meas[i].meas_time\n",
    "        measurement['m_result'] = dist\n",
    "        dut['measurements'].append(measurement)\n",
    "        \n",
    "        if dist > 1.0: meas_fails.append(i)\n",
    "            \n",
    "#         if result == False:\n",
    "#             break\n",
    "\n",
    "    t, res, dist = my_dut.get_result()\n",
    "    dut['dut_result'] = res\n",
    "\n",
    "    data['component'].append(dut)\n",
    "\n",
    "    X.append(t)\n",
    "    Y.append(dist)\n",
    "    if not res:\n",
    "        error_count += 1"
   ]
  },
  {
   "cell_type": "code",
   "execution_count": 5,
   "metadata": {},
   "outputs": [
    {
     "name": "stdout",
     "output_type": "stream",
     "text": [
      "Total:  2592049.0854409384 s  20000  (  966  |  905  |  966  ) ==>  0.9517\n"
     ]
    },
    {
     "data": {
      "image/png": "[encoded data removed]",
      "text/plain": [
       "<Figure size 432x288 with 1 Axes>"
      ]
     },
     "metadata": {
      "needs_background": "light"
     },
     "output_type": "display_data"
    }
   ],
   "source": [
    "error_dut, error_meas = my_dut.get_errordutcount()\n",
    "print(\"Total: \",t, \"s \", x+1, \" ( \", error_count, \" | \", error_dut, \" | \", error_meas, \" ) ==> \", (x+1-error_count)/(x+1) )\n",
    "\n",
    "# write json log\n",
    "# outfile = open('result.json', 'w')\n",
    "# json.dump(data, outfile, indent=2)\n",
    "\n",
    "# plot results\n",
    "timeAxis = [x / 3600. for x in X]\n",
    "plt.xlabel('time [h]')\n",
    "plt.plot(timeAxis,Y)\n",
    "plt.axhline(y=1., xmin=0, xmax=1, color='r')\n",
    "plt.show()"
   ]
  },
  {
   "cell_type": "code",
   "execution_count": 6,
   "metadata": {},
   "outputs": [],
   "source": [
    "# data"
   ]
  },
  {
   "cell_type": "code",
   "execution_count": null,
   "metadata": {},
   "outputs": [],
   "source": []
  }
 ],
 "metadata": {
  "kernelspec": {
   "display_name": "Python 3",
   "language": "python",
   "name": "python3"
  },
  "language_info": {
   "codemirror_mode": {
    "name": "ipython",
    "version": 3
   },
   "file_extension": ".py",
   "mimetype": "text/x-python",
   "name": "python",
   "nbconvert_exporter": "python",
   "pygments_lexer": "ipython3",
   "version": "3.7.3"
  }
 },
 "nbformat": 4,
 "nbformat_minor": 4
}
