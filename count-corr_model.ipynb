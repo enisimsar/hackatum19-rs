{
 "cells": [
  {
   "cell_type": "code",
   "execution_count": 1,
   "metadata": {},
   "outputs": [],
   "source": [
    "import warnings\n",
    "warnings.filterwarnings(\"ignore\")\n",
    "\n",
    "import os\n",
    "\n",
    "os.environ['KMP_DUPLICATE_LIB_OK']='True'"
   ]
  },
  {
   "cell_type": "code",
   "execution_count": 2,
   "metadata": {},
   "outputs": [],
   "source": [
    "import time\n",
    "from DUT import DUT\n",
    "import matplotlib.pyplot as plt\n",
    "import numpy as np\n",
    "import json\n",
    "import sys\n",
    "\n",
    "import pandas as pd\n",
    "\n",
    "from tqdm import tqdm"
   ]
  },
  {
   "cell_type": "code",
   "execution_count": 3,
   "metadata": {},
   "outputs": [],
   "source": [
    "my_dut = DUT(20, True, 3.2)"
   ]
  },
  {
   "cell_type": "code",
   "execution_count": 4,
   "metadata": {},
   "outputs": [
    {
     "name": "stdout",
     "output_type": "stream",
     "text": [
      "Defected Measures: [40  2]\n",
      "Negative Correlation: [(40, 37), (2, 29)]\n"
     ]
    }
   ],
   "source": [
    "print(\"Defected Measures:\", my_dut.defected_meas) \n",
    "print(\"Negative Correlation:\", my_dut.neg_corr)"
   ]
  },
  {
   "cell_type": "code",
   "execution_count": 5,
   "metadata": {},
   "outputs": [],
   "source": [
    "n_train = 2500\n",
    "n_test = 20000 - n_train * 2"
   ]
  },
  {
   "cell_type": "code",
   "execution_count": 6,
   "metadata": {},
   "outputs": [
    {
     "name": "stdout",
     "output_type": "stream",
     "text": [
      "DUT: meas. time=  128.43814099999997  | measurements=  45  | ports=  12  | expected yield =  3.2\n"
     ]
    }
   ],
   "source": [
    "meastime, nmeas, nport, meas, ports, expyield = my_dut.info()\n",
    "print(\"DUT: meas. time= \", meastime, \" | measurements= \", nmeas, \" | ports= \", nport, \" | expected yield = \", expyield)"
   ]
  },
  {
   "cell_type": "code",
   "execution_count": 7,
   "metadata": {},
   "outputs": [],
   "source": [
    "error_count = 0\n",
    "X = []\n",
    "Y = []\n",
    "t=0\n",
    "\n",
    "data= {}\n",
    "data['component']=[]"
   ]
  },
  {
   "cell_type": "code",
   "execution_count": 8,
   "metadata": {},
   "outputs": [],
   "source": [
    "fails = []\n",
    "my_err = 0"
   ]
  },
  {
   "cell_type": "code",
   "execution_count": 9,
   "metadata": {},
   "outputs": [
    {
     "name": "stdout",
     "output_type": "stream",
     "text": [
      "Calibration at  0.1  took  532.1566359999999  seconds.\n",
      "Calibration at  61151.27853100077  took  532.1566359999999  seconds.\n",
      "Calibration at  122614.4770180065  took  532.1566359999999  seconds.\n",
      "Calibration at  184496.5206400161  took  532.1566359999999  seconds.\n",
      "Calibration at  245693.0115680265  took  532.1566359999999  seconds.\n"
     ]
    }
   ],
   "source": [
    "for x in range(n_train):    \n",
    "    my_dut.new_dut()\n",
    "    dut={}\n",
    "    dut['dut_id'] = x\n",
    "    dut['measurements']=[]\n",
    "    \n",
    "    if x % 500 == 0:\n",
    "        my_dut.calibrate()\n",
    "        \n",
    "    toggle = True\n",
    "\n",
    "    for i in range(0, nmeas):\n",
    "        t, result, dist = my_dut.gen_meas_idx(i)\n",
    "        \n",
    "        if dist > 1: fails.append(i)\n",
    "        \n",
    "        measurement = {}\n",
    "        measurement['m_id'] = i\n",
    "        measurement['m_time'] = meas[i].meas_time\n",
    "        measurement['m_result'] = dist\n",
    "        dut['measurements'].append(measurement)\n",
    "                \n",
    "        if result == False and toggle:\n",
    "            toggle = False\n",
    "            my_err += 1\n",
    "            break\n",
    "\n",
    "    t, res, dist = my_dut.get_result()\n",
    "    dut['dut_result'] = res\n",
    "\n",
    "    data['component'].append(dut)\n",
    "\n",
    "    X.append(t)\n",
    "    Y.append(dist)\n",
    "    if not res:\n",
    "        error_count += 1"
   ]
  },
  {
   "cell_type": "code",
   "execution_count": 10,
   "metadata": {},
   "outputs": [
    {
     "data": {
      "text/plain": [
       "array([ 2, 29, 37, 40,  3,  4, 11,  6, 18,  7, 36, 14, 23, 26, 34, 10,  9,\n",
       "       35, 42, 19, 20, 39, 30,  0, 41, 28, 38, 22, 25,  1, 12, 15, 17, 21,\n",
       "       16, 24, 44, 27, 13,  8, 33, 32, 31, 43,  5])"
      ]
     },
     "execution_count": 10,
     "metadata": {},
     "output_type": "execute_result"
    }
   ],
   "source": [
    "a, c = np.unique(fails, return_counts=True)\n",
    "indexes = np.zeros(nmeas)\n",
    "indexes[a] = c\n",
    "sorted_meas = np.argsort(-indexes)\n",
    "\n",
    "sorted_meas #= sorted_meas # [:-sum(indexes < 1)]"
   ]
  },
  {
   "cell_type": "code",
   "execution_count": 11,
   "metadata": {},
   "outputs": [],
   "source": [
    "import itertools\n",
    "\n",
    "all_possible_tuples = {\n",
    "    (i, j): 0 for i, j in itertools.product(range(nmeas), range(nmeas)) if i != j and list(sorted_meas).index(i) < list(sorted_meas).index(j) \n",
    "}"
   ]
  },
  {
   "cell_type": "code",
   "execution_count": 12,
   "metadata": {},
   "outputs": [
    {
     "data": {
      "text/plain": [
       "990"
      ]
     },
     "execution_count": 12,
     "metadata": {},
     "output_type": "execute_result"
    }
   ],
   "source": [
    "len(all_possible_tuples)"
   ]
  },
  {
   "cell_type": "code",
   "execution_count": 13,
   "metadata": {},
   "outputs": [
    {
     "name": "stdout",
     "output_type": "stream",
     "text": [
      "Calibration at  307608.49596999836  took  532.1566359999999  seconds.\n",
      "Calibration at  366816.16888595745  took  532.1566359999999  seconds.\n",
      "Calibration at  426860.1047999164  took  532.1566359999999  seconds.\n",
      "Calibration at  486130.28423687565  took  532.1566359999999  seconds.\n",
      "Calibration at  545776.5726378447  took  532.1566359999999  seconds.\n"
     ]
    }
   ],
   "source": [
    "for x in range(n_train):    \n",
    "    my_dut.new_dut()\n",
    "    dut={}\n",
    "    dut['dut_id'] = x\n",
    "    dut['measurements']=[]\n",
    "    \n",
    "    if x % 500 == 0:\n",
    "        my_dut.calibrate()\n",
    "    \n",
    "    failed = np.zeros(nmeas)\n",
    "\n",
    "    for i in sorted_meas:\n",
    "        t, result, dist = my_dut.gen_meas_idx(i)\n",
    "        \n",
    "        measurement = {}\n",
    "        measurement['m_id'] = i\n",
    "        measurement['m_time'] = meas[i].meas_time\n",
    "        measurement['m_result'] = dist\n",
    "        dut['measurements'].append(measurement)\n",
    "                \n",
    "        if result == False:\n",
    "            failed[i] = 1\n",
    "            my_err += 1\n",
    "            break\n",
    "\n",
    "    t, res, dist = my_dut.get_result()\n",
    "    dut['dut_result'] = res\n",
    "    \n",
    "    for i, j in all_possible_tuples.keys():\n",
    "        if failed[i] == 0 and failed[j] == 1:\n",
    "            all_possible_tuples[(i, j)] += 1\n",
    "\n",
    "    data['component'].append(dut)\n",
    "\n",
    "    X.append(t)\n",
    "    Y.append(dist)\n",
    "    if not res:\n",
    "        error_count += 1"
   ]
  },
  {
   "cell_type": "code",
   "execution_count": 14,
   "metadata": {},
   "outputs": [],
   "source": [
    "sorted_meas = []"
   ]
  },
  {
   "cell_type": "code",
   "execution_count": 15,
   "metadata": {},
   "outputs": [],
   "source": [
    "for i, j in sorted(all_possible_tuples, key=all_possible_tuples.get, reverse=True):\n",
    "    if i not in sorted_meas: sorted_meas.append(i)\n",
    "    if j not in sorted_meas: sorted_meas.append(j)"
   ]
  },
  {
   "cell_type": "code",
   "execution_count": 16,
   "metadata": {},
   "outputs": [
    {
     "name": "stdout",
     "output_type": "stream",
     "text": [
      "Calibration at  606021.1914438315  took  532.1566359999999  seconds.\n",
      "Calibration at  665114.4763568445  took  532.1566359999999  seconds.\n",
      "Calibration at  721959.2610528567  took  532.1566359999999  seconds.\n",
      "Calibration at  779011.9039218685  took  532.1566359999999  seconds.\n",
      "Calibration at  837400.9296338814  took  532.1566359999999  seconds.\n",
      "Calibration at  894993.0864588937  took  532.1566359999999  seconds.\n",
      "Calibration at  952947.8435459064  took  532.1566359999999  seconds.\n",
      "Calibration at  1012255.1468729196  took  532.1566359999999  seconds.\n",
      "Calibration at  1070158.5468560138  took  532.1566359999999  seconds.\n",
      "Calibration at  1128925.8869452474  took  532.1566359999999  seconds.\n",
      "Calibration at  1186489.8095504765  took  532.1566359999999  seconds.\n",
      "Calibration at  1245488.2387127108  took  532.1566359999999  seconds.\n",
      "Calibration at  1303306.939558942  took  532.1566359999999  seconds.\n",
      "Calibration at  1361127.6475211706  took  532.1566359999999  seconds.\n",
      "Calibration at  1419341.3975084017  took  532.1566359999999  seconds.\n",
      "Calibration at  1476265.5150676297  took  532.1566359999999  seconds.\n",
      "Calibration at  1534328.317716861  took  532.1566359999999  seconds.\n",
      "Calibration at  1593188.5603980944  took  532.1566359999999  seconds.\n",
      "Calibration at  1652677.2075553294  took  532.1566359999999  seconds.\n",
      "Calibration at  1712207.4646005665  took  532.1566359999999  seconds.\n",
      "Calibration at  1770928.7461608006  took  532.1566359999999  seconds.\n",
      "Calibration at  1830021.1524000352  took  532.1566359999999  seconds.\n",
      "Calibration at  1887876.1146882651  took  532.1566359999999  seconds.\n",
      "Calibration at  1945743.587665497  took  532.1566359999999  seconds.\n",
      "Calibration at  2003584.7952367275  took  532.1566359999999  seconds.\n",
      "Calibration at  2062900.0261589633  took  532.1566359999999  seconds.\n",
      "Calibration at  2120806.4686559723  took  532.1566359999999  seconds.\n",
      "Calibration at  2178671.9768096637  took  532.1566359999999  seconds.\n",
      "Calibration at  2236988.297338356  took  532.1566359999999  seconds.\n",
      "Calibration at  2295785.1618020437  took  532.1566359999999  seconds.\n"
     ]
    }
   ],
   "source": [
    "for x in range(n_test):\n",
    "    my_dut.new_dut()\n",
    "    dut={}\n",
    "    dut['dut_id'] = x\n",
    "    dut['measurements']=[]\n",
    "\n",
    "    if x % 500 == 0:\n",
    "        my_dut.calibrate()\n",
    "    \n",
    "    incount = True\n",
    "    for j, i in enumerate(sorted_meas):\n",
    "        t, result, dist = my_dut.gen_meas_idx(i, incount)\n",
    "        measurement = {}\n",
    "        measurement['m_id'] = i\n",
    "        measurement['m_time'] = meas[i].meas_time\n",
    "        measurement['m_result'] = dist\n",
    "        dut['measurements'].append(measurement)\n",
    "        \n",
    "        if result == False or j > nmeas - sum(indexes < 1):\n",
    "            if result == False and incount:\n",
    "                my_err +=1\n",
    "            incount = False\n",
    "\n",
    "    t, res, dist = my_dut.get_result()\n",
    "    dut['dut_result'] = res\n",
    "\n",
    "    data['component'].append(dut)\n",
    "\n",
    "    X.append(t)\n",
    "    Y.append(dist)\n",
    "    if not res:\n",
    "        error_count += 1"
   ]
  },
  {
   "cell_type": "code",
   "execution_count": 17,
   "metadata": {},
   "outputs": [
    {
     "name": "stdout",
     "output_type": "stream",
     "text": [
      "Total:  2354374.2569387318 s  15000  (  2011  |  1892  |  2011  ) ==>  0.8659333333333333\n",
      "2003\n"
     ]
    },
    {
     "data": {
      "image/png": "[encoded data removed]",
      "text/plain": [
       "<Figure size 432x288 with 1 Axes>"
      ]
     },
     "metadata": {
      "needs_background": "light"
     },
     "output_type": "display_data"
    }
   ],
   "source": [
    "error_dut, error_meas = my_dut.get_errordutcount()\n",
    "print(\"Total: \",t, \"s \", x+1, \" ( \", error_count, \" | \", error_dut, \" | \", error_meas, \" ) ==> \", (x+1-error_count)/(x+1) )\n",
    "print(my_err)\n",
    "# write json log\n",
    "# outfile = open('result.json', 'w')\n",
    "# json.dump(data, outfile, indent=2)\n",
    "\n",
    "# plot results\n",
    "timeAxis = [x / 3600. for x in X]\n",
    "plt.xlabel('time [h]')\n",
    "plt.plot(timeAxis,Y)\n",
    "plt.axhline(y=1., xmin=0, xmax=1, color='r')\n",
    "plt.show()"
   ]
  }
 ],
 "metadata": {
  "kernelspec": {
   "display_name": "Python 3",
   "language": "python",
   "name": "python3"
  },
  "language_info": {
   "codemirror_mode": {
    "name": "ipython",
    "version": 3
   },
   "file_extension": ".py",
   "mimetype": "text/x-python",
   "name": "python",
   "nbconvert_exporter": "python",
   "pygments_lexer": "ipython3",
   "version": "3.7.3"
  }
 },
 "nbformat": 4,
 "nbformat_minor": 4
}
