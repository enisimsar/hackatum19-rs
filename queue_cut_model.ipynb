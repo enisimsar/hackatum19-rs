{
 "cells": [
  {
   "cell_type": "code",
   "execution_count": null,
   "metadata": {
    "ExecuteTime": {
     "end_time": "2019-11-24T00:53:48.009018Z",
     "start_time": "2019-11-24T00:53:47.887Z"
    }
   },
   "outputs": [],
   "source": []
  },
  {
   "cell_type": "code",
   "execution_count": 1,
   "metadata": {
    "ExecuteTime": {
     "end_time": "2019-11-24T01:25:01.912496Z",
     "start_time": "2019-11-24T01:25:00.926867Z"
    }
   },
   "outputs": [
    {
     "ename": "ModuleNotFoundError",
     "evalue": "No module named 'numpy.core._multiarray_umath'",
     "output_type": "error",
     "traceback": [
      "\u001b[0;31m---------------------------------------------------------------------------\u001b[0m",
      "\u001b[0;31mModuleNotFoundError\u001b[0m                       Traceback (most recent call last)",
      "\u001b[0;31mModuleNotFoundError\u001b[0m: No module named 'numpy.core._multiarray_umath'"
     ]
    },
    {
     "ename": "ModuleNotFoundError",
     "evalue": "No module named 'numpy.core._multiarray_umath'",
     "output_type": "error",
     "traceback": [
      "\u001b[0;31m---------------------------------------------------------------------------\u001b[0m",
      "\u001b[0;31mModuleNotFoundError\u001b[0m                       Traceback (most recent call last)",
      "\u001b[0;31mModuleNotFoundError\u001b[0m: No module named 'numpy.core._multiarray_umath'"
     ]
    },
    {
     "ename": "ModuleNotFoundError",
     "evalue": "No module named 'numpy.core._multiarray_umath'",
     "output_type": "error",
     "traceback": [
      "\u001b[0;31m---------------------------------------------------------------------------\u001b[0m",
      "\u001b[0;31mModuleNotFoundError\u001b[0m                       Traceback (most recent call last)",
      "\u001b[0;31mModuleNotFoundError\u001b[0m: No module named 'numpy.core._multiarray_umath'"
     ]
    },
    {
     "ename": "ModuleNotFoundError",
     "evalue": "No module named 'numpy.core._multiarray_umath'",
     "output_type": "error",
     "traceback": [
      "\u001b[0;31m---------------------------------------------------------------------------\u001b[0m",
      "\u001b[0;31mModuleNotFoundError\u001b[0m                       Traceback (most recent call last)",
      "\u001b[0;31mModuleNotFoundError\u001b[0m: No module named 'numpy.core._multiarray_umath'"
     ]
    }
   ],
   "source": [
    "import time\n",
    "from DUT import DUT\n",
    "import matplotlib.pyplot as plt\n",
    "import numpy as np\n",
    "import json\n",
    "import sys\n",
    "\n",
    "import os\n",
    "import pandas as pd\n"
   ]
  },
  {
   "cell_type": "code",
   "execution_count": 2,
   "metadata": {
    "ExecuteTime": {
     "end_time": "2019-11-24T01:25:01.928886Z",
     "start_time": "2019-11-24T01:25:01.915184Z"
    }
   },
   "outputs": [],
   "source": [
    "my_dut = DUT(20, True, 3.2)"
   ]
  },
  {
   "cell_type": "code",
   "execution_count": 3,
   "metadata": {
    "ExecuteTime": {
     "end_time": "2019-11-24T01:25:01.933765Z",
     "start_time": "2019-11-24T01:25:01.930733Z"
    }
   },
   "outputs": [],
   "source": [
    "expected_TN_rate = 0.01"
   ]
  },
  {
   "cell_type": "code",
   "execution_count": 4,
   "metadata": {
    "ExecuteTime": {
     "end_time": "2019-11-24T01:25:01.941510Z",
     "start_time": "2019-11-24T01:25:01.937232Z"
    }
   },
   "outputs": [],
   "source": [
    "n_train = 5000\n",
    "n_test = 20000 - n_train"
   ]
  },
  {
   "cell_type": "code",
   "execution_count": 5,
   "metadata": {
    "ExecuteTime": {
     "end_time": "2019-11-24T01:25:01.957525Z",
     "start_time": "2019-11-24T01:25:01.946623Z"
    }
   },
   "outputs": [
    {
     "name": "stdout",
     "output_type": "stream",
     "text": [
      "DUT: meas. time=  128.43814099999997  | measurements=  45  | ports=  12  | expected yield =  3.2\n"
     ]
    }
   ],
   "source": [
    "meastime, nmeas, nport, meas, ports, expyield = my_dut.info()\n",
    "print(\"DUT: meas. time= \", meastime, \" | measurements= \", nmeas, \" | ports= \", nport, \" | expected yield = \", expyield)"
   ]
  },
  {
   "cell_type": "code",
   "execution_count": 6,
   "metadata": {
    "ExecuteTime": {
     "end_time": "2019-11-24T01:25:01.970629Z",
     "start_time": "2019-11-24T01:25:01.963843Z"
    }
   },
   "outputs": [],
   "source": [
    "error_count = 0\n",
    "X = []\n",
    "Y = []\n",
    "t=0\n",
    "\n",
    "data= {}\n",
    "data['component']=[]"
   ]
  },
  {
   "cell_type": "code",
   "execution_count": 7,
   "metadata": {
    "ExecuteTime": {
     "end_time": "2019-11-24T01:25:01.999032Z",
     "start_time": "2019-11-24T01:25:01.976152Z"
    }
   },
   "outputs": [],
   "source": [
    "fails = []\n",
    "my_err = 0"
   ]
  },
  {
   "cell_type": "code",
   "execution_count": 8,
   "metadata": {
    "ExecuteTime": {
     "end_time": "2019-11-24T01:25:03.359660Z",
     "start_time": "2019-11-24T01:25:02.008073Z"
    }
   },
   "outputs": [
    {
     "name": "stdout",
     "output_type": "stream",
     "text": [
      "Calibration at  0.1  took  532.1566359999999  seconds.\n",
      "Calibration at  63406.97392400085  took  532.1566359999999  seconds.\n",
      "Calibration at  126480.46737600658  took  532.1566359999999  seconds.\n",
      "Calibration at  189951.40386501866  took  532.1566359999999  seconds.\n",
      "Calibration at  252390.55489503022  took  532.1566359999999  seconds.\n",
      "Calibration at  315311.24285699526  took  532.1566359999999  seconds.\n",
      "Calibration at  378137.2136869518  took  532.1566359999999  seconds.\n",
      "Calibration at  441090.83380390814  took  532.1566359999999  seconds.\n",
      "Calibration at  504284.04286186455  took  532.1566359999999  seconds.\n",
      "Calibration at  567742.3717218406  took  532.1566359999999  seconds.\n"
     ]
    }
   ],
   "source": [
    "for x in range(n_train):    \n",
    "    my_dut.new_dut()\n",
    "    dut={}\n",
    "    dut['dut_id'] = x\n",
    "    dut['measurements']=[]\n",
    "    \n",
    "    if x % 500 == 0:\n",
    "        my_dut.calibrate()\n",
    "        \n",
    "    toggle = True\n",
    "\n",
    "    for i in range(0, nmeas):\n",
    "        t, result, dist = my_dut.gen_meas_idx(i)\n",
    "        \n",
    "        if dist > 1: fails.append(i)\n",
    "        \n",
    "        measurement = {}\n",
    "        measurement['m_id'] = i\n",
    "        measurement['m_time'] = meas[i].meas_time\n",
    "        measurement['m_result'] = dist\n",
    "        dut['measurements'].append(measurement)\n",
    "                \n",
    "        if result == False and toggle:\n",
    "            toggle = False\n",
    "            my_err += 1\n",
    "            break\n",
    "\n",
    "    t, res, dist = my_dut.get_result()\n",
    "    dut['dut_result'] = res\n",
    "\n",
    "    data['component'].append(dut)\n",
    "\n",
    "    X.append(t)\n",
    "    Y.append(dist)\n",
    "    if not res:\n",
    "        error_count += 1"
   ]
  },
  {
   "cell_type": "code",
   "execution_count": 9,
   "metadata": {
    "ExecuteTime": {
     "end_time": "2019-11-24T01:25:03.367360Z",
     "start_time": "2019-11-24T01:25:03.361504Z"
    }
   },
   "outputs": [],
   "source": [
    "a, c = np.unique(fails, return_counts=True)\n",
    "indexes = np.zeros(nmeas)\n",
    "indexes[a] = c\n",
    "sorted_meas = np.argsort(-indexes)\n",
    "\n",
    "sorted_meas_en = enumerate(sorted_meas) #= sorted_meas # [:-sum(indexes < 1)]"
   ]
  },
  {
   "cell_type": "code",
   "execution_count": 10,
   "metadata": {
    "ExecuteTime": {
     "end_time": "2019-11-24T01:25:03.389728Z",
     "start_time": "2019-11-24T01:25:03.379792Z"
    }
   },
   "outputs": [
    {
     "data": {
      "text/plain": [
       "array([40,  2,  8,  3,  4,  5, 20,  0,  1,  7, 33, 18, 28, 36, 17, 15, 13,\n",
       "       11,  9,  6, 16, 14, 10, 35, 26, 27, 32, 31, 39, 37, 34, 22, 29, 25,\n",
       "       24, 43, 21, 19, 30, 23, 38, 12, 41, 42, 44])"
      ]
     },
     "execution_count": 10,
     "metadata": {},
     "output_type": "execute_result"
    }
   ],
   "source": [
    "sorted_meas"
   ]
  },
  {
   "cell_type": "code",
   "execution_count": null,
   "metadata": {
    "ExecuteTime": {
     "end_time": "2019-11-24T01:23:12.587465Z",
     "start_time": "2019-11-24T01:23:12.580412Z"
    }
   },
   "outputs": [],
   "source": []
  },
  {
   "cell_type": "code",
   "execution_count": 11,
   "metadata": {
    "ExecuteTime": {
     "end_time": "2019-11-24T01:26:12.880704Z",
     "start_time": "2019-11-24T01:25:03.404744Z"
    }
   },
   "outputs": [
    {
     "name": "stdout",
     "output_type": "stream",
     "text": [
      "Calibration at  630890.4446348255  took  532.1566359999999  seconds.\n",
      "Calibration at  675163.631924846  took  532.1566359999999  seconds.\n",
      "Calibration at  719217.6003108663  took  532.1566359999999  seconds.\n",
      "Calibration at  762379.6240578964  took  532.1566359999999  seconds.\n",
      "Calibration at  804751.2842859343  took  532.1566359999999  seconds.\n",
      "Calibration at  847281.7525449723  took  532.1566359999999  seconds.\n",
      "Calibration at  889286.6848960094  took  532.1566359999999  seconds.\n",
      "Calibration at  931768.0551350473  took  532.1566359999999  seconds.\n",
      "Calibration at  974172.2685460831  took  532.1566359999999  seconds.\n",
      "Calibration at  1016099.7994341184  took  532.1566359999999  seconds.\n",
      "Calibration at  1058149.6147121543  took  532.1566359999999  seconds.\n",
      "Calibration at  1100144.851920194  took  532.1566359999999  seconds.\n",
      "Calibration at  1141959.2230252365  took  532.1566359999999  seconds.\n",
      "Calibration at  1183673.720049281  took  532.1566359999999  seconds.\n",
      "Calibration at  1225470.484620326  took  532.1566359999999  seconds.\n",
      "Calibration at  1267834.8894553704  took  532.1566359999999  seconds.\n",
      "Calibration at  1309995.7016484146  took  532.1566359999999  seconds.\n",
      "Calibration at  1349408.9985864975  took  532.1566359999999  seconds.\n",
      "Calibration at  1389035.134695581  took  532.1566359999999  seconds.\n",
      "Calibration at  1429001.6175666642  took  532.1566359999999  seconds.\n",
      "Calibration at  1468688.308629748  took  532.1566359999999  seconds.\n",
      "Calibration at  1508091.5232318314  took  532.1566359999999  seconds.\n",
      "Calibration at  1545570.8520739148  took  532.1566359999999  seconds.\n",
      "Calibration at  1583105.9650819974  took  532.1566359999999  seconds.\n",
      "Calibration at  1620383.7263930815  took  532.1566359999999  seconds.\n",
      "Calibration at  1658025.5793721646  took  532.1566359999999  seconds.\n",
      "Calibration at  1695350.7394872326  took  532.1566359999999  seconds.\n",
      "Calibration at  1732071.8738012672  took  532.1566359999999  seconds.\n",
      "Calibration at  1769198.255741301  took  532.1566359999999  seconds.\n",
      "Calibration at  1805544.403641336  took  532.1566359999999  seconds.\n"
     ]
    }
   ],
   "source": [
    "for x in range(n_test):\n",
    "    my_dut.new_dut()\n",
    "    dut={}\n",
    "    dut['dut_id'] = x\n",
    "    dut['measurements']=[]\n",
    "    \n",
    "    if x % 500 == 0:\n",
    "        my_dut.calibrate()\n",
    "                \n",
    "    queue_cut = 0\n",
    "    exp_faults = expected_TN_rate  * ( my_err / (x + n_train) )\n",
    "    for j, i in enumerate(np.flip(sorted_meas)):\n",
    "        tmp = indexes[i] / float((x + n_train)) \n",
    "        if exp_faults - tmp >= 0:\n",
    "            exp_faults = exp_faults - tmp\n",
    "            queue_cut += 1\n",
    "        else:\n",
    "            break\n",
    "\n",
    "    incount = True\n",
    "    for j, i in enumerate(sorted_meas):\n",
    "        if j > nmeas - queue_cut:\n",
    "            break\n",
    "        t, result, dist = my_dut.gen_meas_idx(i, incount)\n",
    "        measurement = {}\n",
    "        measurement['m_id'] = i\n",
    "        measurement['m_time'] = meas[i].meas_time\n",
    "        measurement['m_result'] = dist\n",
    "        dut['measurements'].append(measurement)\n",
    "        if result == False or j > nmeas - sum(indexes < 1) - queue_cut:\n",
    "            if result == False and incount:\n",
    "                my_err +=1\n",
    "            incount = False\n",
    "\n",
    "    t, res, dist = my_dut.get_result()\n",
    "    dut['dut_result'] = res\n",
    "\n",
    "    data['component'].append(dut)\n",
    "\n",
    "    X.append(t)\n",
    "    Y.append(dist)\n",
    "    if not res:\n",
    "        error_count += 1"
   ]
  },
  {
   "cell_type": "code",
   "execution_count": null,
   "metadata": {
    "ExecuteTime": {
     "end_time": "2019-11-24T01:17:16.595327Z",
     "start_time": "2019-11-24T01:17:16.453Z"
    }
   },
   "outputs": [],
   "source": [
    "\n",
    "error_dut, error_meas = my_dut.get_errordutcount()\n",
    "print(\"Total: \",t, \"s \", x+1, \" ( \", error_count, \" | \", error_dut, \" | \", error_meas, \" ) ==> \", (x+1-error_count)/(x+1) )\n",
    "print(my_err)\n",
    "# write json log\n",
    "# outfile = open('result.json', 'w')\n",
    "# json.dump(data, outfile, indent=2)\n",
    "\n",
    "# plot results\n",
    "timeAxis = [x / 3600. for x in X]\n",
    "plt.xlabel('time [h]')\n",
    "plt.plot(timeAxis,Y)\n",
    "plt.axhline(y=1., xmin=0, xmax=1, color='r')\n",
    "plt.show()\n",
    "\n",
    "\n"
   ]
  },
  {
   "cell_type": "code",
   "execution_count": null,
   "metadata": {},
   "outputs": [],
   "source": []
  },
  {
   "cell_type": "code",
   "execution_count": null,
   "metadata": {
    "ExecuteTime": {
     "end_time": "2019-11-24T01:17:16.600309Z",
     "start_time": "2019-11-24T01:17:16.456Z"
    }
   },
   "outputs": [],
   "source": [
    "error_dut, error_meas = my_dut.get_errordutcount()\n",
    "print(\"Total: \",t, \"s \", x+1, \" ( \", error_count, \" | \", error_dut, \" | \", error_meas, \" ) ==> \", (x+1-error_count)/(x+1) )\n",
    "print(my_err)\n",
    "# write json log\n",
    "# outfile = open('result.json', 'w')\n",
    "# json.dump(data, outfile, indent=2)\n",
    "\n",
    "# plot results\n",
    "timeAxis = [x / 3600. for x in X]\n",
    "plt.xlabel('time [h]')\n",
    "plt.plot(timeAxis,Y)\n",
    "plt.axhline(y=1., xmin=0, xmax=1, color='r')\n",
    "plt.show()"
   ]
  },
  {
   "cell_type": "code",
   "execution_count": null,
   "metadata": {
    "ExecuteTime": {
     "end_time": "2019-11-24T01:17:16.605608Z",
     "start_time": "2019-11-24T01:17:16.458Z"
    }
   },
   "outputs": [],
   "source": [
    "len(meas)"
   ]
  },
  {
   "cell_type": "code",
   "execution_count": null,
   "metadata": {},
   "outputs": [],
   "source": []
  }
 ],
 "metadata": {
  "kernelspec": {
   "display_name": "Python 3",
   "language": "python",
   "name": "python3"
  },
  "language_info": {
   "codemirror_mode": {
    "name": "ipython",
    "version": 3
   },
   "file_extension": ".py",
   "mimetype": "text/x-python",
   "name": "python",
   "nbconvert_exporter": "python",
   "pygments_lexer": "ipython3",
   "version": "3.6.0"
  }
 },
 "nbformat": 4,
 "nbformat_minor": 4
}
