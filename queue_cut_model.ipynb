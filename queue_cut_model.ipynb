{
 "cells": [
  {
   "cell_type": "code",
   "execution_count": 1,
   "metadata": {
    "ExecuteTime": {
     "end_time": "2019-11-24T01:25:01.912496Z",
     "start_time": "2019-11-24T01:25:00.926867Z"
    }
   },
   "outputs": [],
   "source": [
    "import time\n",
    "from DUT import DUT\n",
    "import matplotlib.pyplot as plt\n",
    "import numpy as np\n",
    "import json\n",
    "import sys\n",
    "\n",
    "import os\n",
    "import pandas as pd"
   ]
  },
  {
   "cell_type": "code",
   "execution_count": 2,
   "metadata": {
    "ExecuteTime": {
     "end_time": "2019-11-24T01:25:01.928886Z",
     "start_time": "2019-11-24T01:25:01.915184Z"
    }
   },
   "outputs": [],
   "source": [
    "my_dut = DUT(20, True, 3.2)"
   ]
  },
  {
   "cell_type": "code",
   "execution_count": 3,
   "metadata": {
    "ExecuteTime": {
     "end_time": "2019-11-24T01:25:01.933765Z",
     "start_time": "2019-11-24T01:25:01.930733Z"
    }
   },
   "outputs": [],
   "source": [
    "expected_TN_rate = 0.01"
   ]
  },
  {
   "cell_type": "code",
   "execution_count": 4,
   "metadata": {},
   "outputs": [],
   "source": [
    "my_dut = DUT(20, True, 3.2)"
   ]
  },
  {
   "cell_type": "code",
   "execution_count": 5,
   "metadata": {},
   "outputs": [
    {
     "name": "stdout",
     "output_type": "stream",
     "text": [
      "Defected Measures: [40  2]\n",
      "Negative Correlation: [(40, 37), (2, 29)]\n"
     ]
    }
   ],
   "source": [
    "print(\"Defected Measures:\", my_dut.defected_meas) \n",
    "print(\"Negative Correlation:\", my_dut.neg_corr)"
   ]
  },
  {
   "cell_type": "code",
   "execution_count": 6,
   "metadata": {},
   "outputs": [],
   "source": [
    "n_train = 2500\n",
    "n_test = 20000 - n_train * 2"
   ]
  },
  {
   "cell_type": "code",
   "execution_count": 7,
   "metadata": {},
   "outputs": [
    {
     "name": "stdout",
     "output_type": "stream",
     "text": [
      "DUT: meas. time=  128.43814099999997  | measurements=  45  | ports=  12  | expected yield =  3.2\n"
     ]
    }
   ],
   "source": [
    "meastime, nmeas, nport, meas, ports, expyield = my_dut.info()\n",
    "print(\"DUT: meas. time= \", meastime, \" | measurements= \", nmeas, \" | ports= \", nport, \" | expected yield = \", expyield)"
   ]
  },
  {
   "cell_type": "code",
   "execution_count": 8,
   "metadata": {},
   "outputs": [],
   "source": [
    "error_count = 0\n",
    "X = []\n",
    "Y = []\n",
    "t=0\n",
    "\n",
    "data= {}\n",
    "data['component']=[]"
   ]
  },
  {
   "cell_type": "code",
   "execution_count": 9,
   "metadata": {},
   "outputs": [],
   "source": [
    "fails = []\n",
    "my_err = 0"
   ]
  },
  {
   "cell_type": "code",
   "execution_count": 10,
   "metadata": {},
   "outputs": [
    {
     "name": "stdout",
     "output_type": "stream",
     "text": [
      "Calibration at  0.1  took  532.1566359999999  seconds.\n",
      "Calibration at  61151.27853100077  took  532.1566359999999  seconds.\n",
      "Calibration at  122614.4770180065  took  532.1566359999999  seconds.\n",
      "Calibration at  184496.5206400161  took  532.1566359999999  seconds.\n",
      "Calibration at  245693.0115680265  took  532.1566359999999  seconds.\n"
     ]
    }
   ],
   "source": [
    "for x in range(n_train):    \n",
    "    my_dut.new_dut()\n",
    "    dut={}\n",
    "    dut['dut_id'] = x\n",
    "    dut['measurements']=[]\n",
    "    \n",
    "    if x % 500 == 0:\n",
    "        my_dut.calibrate()\n",
    "        \n",
    "    toggle = True\n",
    "\n",
    "    for i in range(0, nmeas):\n",
    "        t, result, dist = my_dut.gen_meas_idx(i)\n",
    "        \n",
    "        if dist > 1: fails.append(i)\n",
    "        \n",
    "        measurement = {}\n",
    "        measurement['m_id'] = i\n",
    "        measurement['m_time'] = meas[i].meas_time\n",
    "        measurement['m_result'] = dist\n",
    "        dut['measurements'].append(measurement)\n",
    "                \n",
    "        if result == False and toggle:\n",
    "            toggle = False\n",
    "            my_err += 1\n",
    "            break\n",
    "\n",
    "    t, res, dist = my_dut.get_result()\n",
    "    dut['dut_result'] = res\n",
    "\n",
    "    data['component'].append(dut)\n",
    "\n",
    "    X.append(t)\n",
    "    Y.append(dist)\n",
    "    if not res:\n",
    "        error_count += 1"
   ]
  },
  {
   "cell_type": "code",
   "execution_count": 11,
   "metadata": {},
   "outputs": [
    {
     "data": {
      "text/plain": [
       "array([ 2, 29, 37, 40,  3,  4, 11,  6, 18,  7, 36, 14, 23, 26, 34, 10,  9,\n",
       "       35, 42, 19, 20, 39, 30,  0, 41, 28, 38, 22, 25,  1, 12, 15, 17, 21,\n",
       "       16, 24, 44, 27, 13,  8, 33, 32, 31, 43,  5])"
      ]
     },
     "execution_count": 11,
     "metadata": {},
     "output_type": "execute_result"
    }
   ],
   "source": [
    "a, c = np.unique(fails, return_counts=True)\n",
    "indexes = np.zeros(nmeas)\n",
    "indexes[a] = c\n",
    "sorted_meas = np.argsort(-indexes)\n",
    "\n",
    "sorted_meas #= sorted_meas # [:-sum(indexes < 1)]"
   ]
  },
  {
   "cell_type": "code",
   "execution_count": 12,
   "metadata": {},
   "outputs": [],
   "source": [
    "import itertools\n",
    "\n",
    "all_possible_tuples = {\n",
    "    (i, j): 0 for i, j in itertools.product(range(nmeas), range(nmeas)) if i != j and list(sorted_meas).index(i) < list(sorted_meas).index(j) \n",
    "}"
   ]
  },
  {
   "cell_type": "code",
   "execution_count": 13,
   "metadata": {},
   "outputs": [
    {
     "data": {
      "text/plain": [
       "990"
      ]
     },
     "execution_count": 13,
     "metadata": {},
     "output_type": "execute_result"
    }
   ],
   "source": [
    "len(all_possible_tuples)"
   ]
  },
  {
   "cell_type": "code",
   "execution_count": 14,
   "metadata": {},
   "outputs": [
    {
     "name": "stdout",
     "output_type": "stream",
     "text": [
      "Calibration at  307608.49596999836  took  532.1566359999999  seconds.\n",
      "Calibration at  366816.16888595745  took  532.1566359999999  seconds.\n",
      "Calibration at  426860.1047999164  took  532.1566359999999  seconds.\n",
      "Calibration at  486130.28423687565  took  532.1566359999999  seconds.\n",
      "Calibration at  545776.5726378447  took  532.1566359999999  seconds.\n"
     ]
    }
   ],
   "source": [
    "for x in range(n_train):    \n",
    "    my_dut.new_dut()\n",
    "    dut={}\n",
    "    dut['dut_id'] = x\n",
    "    dut['measurements']=[]\n",
    "    \n",
    "    if x % 500 == 0:\n",
    "        my_dut.calibrate()\n",
    "    \n",
    "    failed = np.zeros(nmeas)\n",
    "\n",
    "    for i in sorted_meas:\n",
    "        t, result, dist = my_dut.gen_meas_idx(i)\n",
    "        \n",
    "        measurement = {}\n",
    "        measurement['m_id'] = i\n",
    "        measurement['m_time'] = meas[i].meas_time\n",
    "        measurement['m_result'] = dist\n",
    "        dut['measurements'].append(measurement)\n",
    "                \n",
    "        if result == False:\n",
    "            failed[i] = 1\n",
    "            my_err += 1\n",
    "            break\n",
    "\n",
    "    t, res, dist = my_dut.get_result()\n",
    "    dut['dut_result'] = res\n",
    "    \n",
    "    for i, j in all_possible_tuples.keys():\n",
    "        if failed[i] == 0 and failed[j] == 1:\n",
    "            all_possible_tuples[(i, j)] += 1\n",
    "\n",
    "    data['component'].append(dut)\n",
    "\n",
    "    X.append(t)\n",
    "    Y.append(dist)\n",
    "    if not res:\n",
    "        error_count += 1"
   ]
  },
  {
   "cell_type": "code",
   "execution_count": 15,
   "metadata": {},
   "outputs": [],
   "source": [
    "sorted_meas = []"
   ]
  },
  {
   "cell_type": "code",
   "execution_count": 16,
   "metadata": {},
   "outputs": [],
   "source": [
    "for i, j in sorted(all_possible_tuples, key=all_possible_tuples.get, reverse=True):\n",
    "    if i not in sorted_meas: sorted_meas.append(i)\n",
    "    if j not in sorted_meas: sorted_meas.append(j)"
   ]
  },
  {
   "cell_type": "code",
   "execution_count": 17,
   "metadata": {
    "ExecuteTime": {
     "end_time": "2019-11-24T01:26:12.880704Z",
     "start_time": "2019-11-24T01:25:03.404744Z"
    }
   },
   "outputs": [
    {
     "name": "stdout",
     "output_type": "stream",
     "text": [
      "Calibration at  606021.1914438315  took  532.1566359999999  seconds.\n",
      "Calibration at  663559.2611468306  took  532.1566359999999  seconds.\n",
      "Calibration at  718205.0379338418  took  532.1566359999999  seconds.\n",
      "Calibration at  772301.8617408649  took  532.1566359999999  seconds.\n",
      "Calibration at  826947.4471678758  took  532.1566359999999  seconds.\n",
      "Calibration at  880475.5319068788  took  532.1566359999999  seconds.\n",
      "Calibration at  931540.8772779008  took  532.1566359999999  seconds.\n",
      "Calibration at  982364.2422449341  took  532.1566359999999  seconds.\n",
      "Calibration at  1031783.3797159662  took  532.1566359999999  seconds.\n",
      "Calibration at  1081969.377872112  took  532.1566359999999  seconds.\n",
      "Calibration at  1131189.5239603089  took  532.1566359999999  seconds.\n",
      "Calibration at  1181562.03218651  took  532.1566359999999  seconds.\n",
      "Calibration at  1230954.3016027117  took  532.1566359999999  seconds.\n",
      "Calibration at  1280307.2000469146  took  532.1566359999999  seconds.\n",
      "Calibration at  1330057.2340291203  took  532.1566359999999  seconds.\n",
      "Calibration at  1378706.4059403234  took  532.1566359999999  seconds.\n",
      "Calibration at  1427892.7334275085  took  532.1566359999999  seconds.\n",
      "Calibration at  1477302.7665896683  took  532.1566359999999  seconds.\n",
      "Calibration at  1527365.80145783  took  532.1566359999999  seconds.\n",
      "Calibration at  1577453.8615339934  took  532.1566359999999  seconds.\n",
      "Calibration at  1626991.3434751553  took  532.1566359999999  seconds.\n",
      "Calibration at  1676611.1849203163  took  532.1566359999999  seconds.\n",
      "Calibration at  1725460.5540824751  took  532.1566359999999  seconds.\n",
      "Calibration at  1774136.4987196352  took  532.1566359999999  seconds.\n",
      "Calibration at  1821370.7318527633  took  532.1566359999999  seconds.\n",
      "Calibration at  1869627.707891893  took  532.1566359999999  seconds.\n",
      "Calibration at  1916788.659084021  took  532.1566359999999  seconds.\n",
      "Calibration at  1963919.3180031492  took  532.1566359999999  seconds.\n",
      "Calibration at  2010725.2263672685  took  532.1566359999999  seconds.\n",
      "Calibration at  2057165.6545243803  took  532.1566359999999  seconds.\n"
     ]
    }
   ],
   "source": [
    "for x in range(n_test):\n",
    "    my_dut.new_dut()\n",
    "    dut={}\n",
    "    dut['dut_id'] = x\n",
    "    dut['measurements']=[]\n",
    "    \n",
    "    if x % 500 == 0:\n",
    "        my_dut.calibrate()\n",
    "                \n",
    "    queue_cut = 0\n",
    "    exp_faults = expected_TN_rate  * ( my_err / (x + n_train) )\n",
    "    for j, i in enumerate(np.flip(sorted_meas)):\n",
    "        tmp = indexes[i] / float((x + n_train)) \n",
    "        if exp_faults - tmp >= 0:\n",
    "            exp_faults = exp_faults - tmp\n",
    "            queue_cut += 1\n",
    "        else:\n",
    "            break\n",
    "\n",
    "    incount = True\n",
    "    for j, i in enumerate(sorted_meas):\n",
    "        t, result, dist = my_dut.gen_meas_idx(i, incount)\n",
    "        measurement = {}\n",
    "        measurement['m_id'] = i\n",
    "        measurement['m_time'] = meas[i].meas_time\n",
    "        measurement['m_result'] = dist\n",
    "        dut['measurements'].append(measurement)\n",
    "        if result == False or j >  nmeas - queue_cut:\n",
    "            if result == False and incount:\n",
    "                my_err +=1\n",
    "            incount = False\n",
    "\n",
    "    t, res, dist = my_dut.get_result()\n",
    "    dut['dut_result'] = res\n",
    "\n",
    "    data['component'].append(dut)\n",
    "\n",
    "    X.append(t)\n",
    "    Y.append(dist)\n",
    "    if not res:\n",
    "        error_count += 1"
   ]
  },
  {
   "cell_type": "code",
   "execution_count": 18,
   "metadata": {
    "ExecuteTime": {
     "end_time": "2019-11-24T01:17:16.595327Z",
     "start_time": "2019-11-24T01:17:16.453Z"
    }
   },
   "outputs": [
    {
     "name": "stdout",
     "output_type": "stream",
     "text": [
      "Total:  2103525.339473446 s  15000  (  2002  |  1892  |  2002  ) ==>  0.8665333333333334\n",
      "1909\n"
     ]
    },
    {
     "data": {
      "image/png": "[encoded data removed]",
      "text/plain": [
       "<Figure size 432x288 with 1 Axes>"
      ]
     },
     "metadata": {
      "needs_background": "light"
     },
     "output_type": "display_data"
    }
   ],
   "source": [
    "\n",
    "error_dut, error_meas = my_dut.get_errordutcount()\n",
    "print(\"Total: \",t, \"s \", x+1, \" ( \", error_count, \" | \", error_dut, \" | \", error_meas, \" ) ==> \", (x+1-error_count)/(x+1) )\n",
    "print(my_err)\n",
    "# write json log\n",
    "# outfile = open('result.json', 'w')\n",
    "# json.dump(data, outfile, indent=2)\n",
    "\n",
    "# plot results\n",
    "timeAxis = [x / 3600. for x in X]\n",
    "plt.xlabel('time [h]')\n",
    "plt.plot(timeAxis,Y)\n",
    "plt.axhline(y=1., xmin=0, xmax=1, color='r')\n",
    "plt.show()\n",
    "\n",
    "\n"
   ]
  }
 ],
 "metadata": {
  "kernelspec": {
   "display_name": "Python 3",
   "language": "python",
   "name": "python3"
  },
  "language_info": {
   "codemirror_mode": {
    "name": "ipython",
    "version": 3
   },
   "file_extension": ".py",
   "mimetype": "text/x-python",
   "name": "python",
   "nbconvert_exporter": "python",
   "pygments_lexer": "ipython3",
   "version": "3.7.3"
  }
 },
 "nbformat": 4,
 "nbformat_minor": 4
}
