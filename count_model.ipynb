{
 "cells": [
  {
   "cell_type": "code",
   "execution_count": 1,
   "metadata": {},
   "outputs": [],
   "source": [
    "import warnings\n",
    "warnings.filterwarnings(\"ignore\")\n",
    "\n",
    "import os\n",
    "\n",
    "os.environ['KMP_DUPLICATE_LIB_OK']='True'"
   ]
  },
  {
   "cell_type": "code",
   "execution_count": 2,
   "metadata": {},
   "outputs": [],
   "source": [
    "imports time\n",
    "from DUT import DUT\n",
    "import matplotlib.pyplot as plt\n",
    "import numpy as np\n",
    "import json\n",
    "import sys\n",
    "\n",
    "import pandas as pd\n",
    "\n",
    "from tqdm import tqdm"
   ]
  },
  {
   "cell_type": "code",
   "execution_count": 3,
   "metadata": {},
   "outputs": [],
   "source": [
    "my_dut = DUT(20, True, 3.2)"
   ]
  },
  {
   "cell_type": "code",
   "execution_count": 4,
   "metadata": {},
   "outputs": [],
   "source": [
    "n_train = 5000\n",
    "n_test = 20000 - n_train"
   ]
  },
  {
   "cell_type": "code",
   "execution_count": 5,
   "metadata": {},
   "outputs": [
    {
     "name": "stdout",
     "output_type": "stream",
     "text": [
      "DUT: meas. time=  128.43814099999997  | measurements=  45  | ports=  12  | expected yield =  3.2\n"
     ]
    }
   ],
   "source": [
    "meastime, nmeas, nport, meas, ports, expyield = my_dut.info()\n",
    "print(\"DUT: meas. time= \", meastime, \" | measurements= \", nmeas, \" | ports= \", nport, \" | expected yield = \", expyield)"
   ]
  },
  {
   "cell_type": "code",
   "execution_count": 6,
   "metadata": {},
   "outputs": [],
   "source": [
    "error_count = 0\n",
    "X = []\n",
    "Y = []\n",
    "t=0\n",
    "\n",
    "data= {}\n",
    "data['component']=[]"
   ]
  },
  {
   "cell_type": "code",
   "execution_count": 7,
   "metadata": {},
   "outputs": [],
   "source": [
    "fails = []\n",
    "my_err = 0"
   ]
  },
  {
   "cell_type": "code",
   "execution_count": 8,
   "metadata": {},
   "outputs": [
    {
     "name": "stdout",
     "output_type": "stream",
     "text": [
      "Calibration at  0.1  took  532.1566359999999  seconds.\n",
      "Calibration at  61151.27853100077  took  532.1566359999999  seconds.\n",
      "Calibration at  122614.4770180065  took  532.1566359999999  seconds.\n",
      "Calibration at  184496.5206400161  took  532.1566359999999  seconds.\n",
      "Calibration at  245693.0115680265  took  532.1566359999999  seconds.\n",
      "Calibration at  307608.49596999836  took  532.1566359999999  seconds.\n",
      "Calibration at  369000.70101795666  took  532.1566359999999  seconds.\n",
      "Calibration at  430807.38640691485  took  532.1566359999999  seconds.\n",
      "Calibration at  491908.1837528741  took  532.1566359999999  seconds.\n",
      "Calibration at  554120.7952228454  took  532.1566359999999  seconds.\n"
     ]
    }
   ],
   "source": [
    "for x in range(n_train):    \n",
    "    my_dut.new_dut()\n",
    "    dut={}\n",
    "    dut['dut_id'] = x\n",
    "    dut['measurements']=[]\n",
    "    \n",
    "    if x % 500 == 0:\n",
    "        my_dut.calibrate()\n",
    "        \n",
    "    toggle = True\n",
    "\n",
    "    for i in range(0, nmeas):\n",
    "        t, result, dist = my_dut.gen_meas_idx(i)\n",
    "        \n",
    "        if dist > 1: fails.append(i)\n",
    "        \n",
    "        measurement = {}\n",
    "        measurement['m_id'] = i\n",
    "        measurement['m_time'] = meas[i].meas_time\n",
    "        measurement['m_result'] = dist\n",
    "        dut['measurements'].append(measurement)\n",
    "                \n",
    "        if result == False and toggle:\n",
    "            toggle = False\n",
    "            my_err += 1\n",
    "            break\n",
    "\n",
    "    t, res, dist = my_dut.get_result()\n",
    "    dut['dut_result'] = res\n",
    "\n",
    "    data['component'].append(dut)\n",
    "\n",
    "    X.append(t)\n",
    "    Y.append(dist)\n",
    "    if not res:\n",
    "        error_count += 1"
   ]
  },
  {
   "cell_type": "code",
   "execution_count": 9,
   "metadata": {},
   "outputs": [
    {
     "data": {
      "text/plain": [
       "array([ 2, 29, 40, 37, 11,  3, 21, 36, 14,  6,  4,  9, 42, 20,  7, 16, 34,\n",
       "       18, 10, 19, 35, 26, 38, 23, 41, 30, 39, 31,  0, 22, 27, 15, 13,  1,\n",
       "       44, 25, 33, 24, 43, 17, 12,  8, 28, 32,  5])"
      ]
     },
     "execution_count": 9,
     "metadata": {},
     "output_type": "execute_result"
    }
   ],
   "source": [
    "a, c = np.unique(fails, return_counts=True)\n",
    "indexes = np.zeros(nmeas)\n",
    "indexes[a] = c\n",
    "sorted_meas = np.argsort(-indexes)\n",
    "\n",
    "sorted_meas #= sorted_meas # [:-sum(indexes < 1)]"
   ]
  },
  {
   "cell_type": "code",
   "execution_count": 10,
   "metadata": {},
   "outputs": [
    {
     "name": "stdout",
     "output_type": "stream",
     "text": [
      "Calibration at  616536.4202848314  took  532.1566359999999  seconds.\n",
      "Calibration at  677500.944390818  took  532.1566359999999  seconds.\n",
      "Calibration at  736231.2281838056  took  532.1566359999999  seconds.\n",
      "Calibration at  795105.8440837921  took  532.1566359999999  seconds.\n",
      "Calibration at  855497.7817667788  took  532.1566359999999  seconds.\n",
      "Calibration at  914755.808847766  took  532.1566359999999  seconds.\n",
      "Calibration at  974674.9088277528  took  532.1566359999999  seconds.\n",
      "Calibration at  1035615.16175374  took  532.1566359999999  seconds.\n",
      "Calibration at  1095283.8277289406  took  532.1566359999999  seconds.\n",
      "Calibration at  1155916.0302012025  took  532.1566359999999  seconds.\n",
      "Calibration at  1215362.0198354595  took  532.1566359999999  seconds.\n",
      "Calibration at  1275955.5972407206  took  532.1566359999999  seconds.\n",
      "Calibration at  1335660.8628729796  took  532.1566359999999  seconds.\n",
      "Calibration at  1395048.2184672358  took  532.1566359999999  seconds.\n",
      "Calibration at  1455215.9572214945  took  532.1566359999999  seconds.\n",
      "Calibration at  1514011.74815775  took  532.1566359999999  seconds.\n",
      "Calibration at  1573784.018229008  took  532.1566359999999  seconds.\n",
      "Calibration at  1634576.8218912687  took  532.1566359999999  seconds.\n",
      "Calibration at  1695985.6267955336  took  532.1566359999999  seconds.\n",
      "Calibration at  1757501.1003777985  took  532.1566359999999  seconds.\n",
      "Calibration at  1818101.8695810598  took  532.1566359999999  seconds.\n",
      "Calibration at  1879053.2880793214  took  532.1566359999999  seconds.\n",
      "Calibration at  1938565.7507805787  took  532.1566359999999  seconds.\n",
      "Calibration at  1998112.0735988365  took  532.1566359999999  seconds.\n",
      "Calibration at  2057703.0218630938  took  532.1566359999999  seconds.\n",
      "Calibration at  2118754.2912781197  took  532.1566359999999  seconds.\n",
      "Calibration at  2178471.927938725  took  532.1566359999999  seconds.\n",
      "Calibration at  2238308.1457483293  took  532.1566359999999  seconds.\n",
      "Calibration at  2298496.34696993  took  532.1566359999999  seconds.\n",
      "Calibration at  2359214.5537665295  took  532.1566359999999  seconds.\n"
     ]
    }
   ],
   "source": [
    "for x in range(n_test):\n",
    "    my_dut.new_dut()\n",
    "    dut={}\n",
    "    dut['dut_id'] = x\n",
    "    dut['measurements']=[]\n",
    "\n",
    "    if x % 500 == 0:\n",
    "        my_dut.calibrate()\n",
    "    \n",
    "    incount = True\n",
    "    for j, i in enumerate(sorted_meas):\n",
    "        t, result, dist = my_dut.gen_meas_idx(i, incount)\n",
    "        measurement = {}\n",
    "        measurement['m_id'] = i\n",
    "        measurement['m_time'] = meas[i].meas_time\n",
    "        measurement['m_result'] = dist\n",
    "        dut['measurements'].append(measurement)\n",
    "        \n",
    "        if result == False or j > nmeas - sum(indexes < 1):\n",
    "            if result == False and incount:\n",
    "                my_err +=1\n",
    "            incount = False\n",
    "\n",
    "    t, res, dist = my_dut.get_result()\n",
    "    dut['dut_result'] = res\n",
    "\n",
    "    data['component'].append(dut)\n",
    "\n",
    "    X.append(t)\n",
    "    Y.append(dist)\n",
    "    if not res:\n",
    "        error_count += 1"
   ]
  },
  {
   "cell_type": "code",
   "execution_count": 11,
   "metadata": {},
   "outputs": [
    {
     "name": "stdout",
     "output_type": "stream",
     "text": [
      "Total:  2419447.9643021305 s  15000  (  2014  |  1892  |  2014  ) ==>  0.8657333333333334\n",
      "2014\n"
     ]
    },
    {
     "data": {
      "image/png": "[encoded data removed]",
      "text/plain": [
       "<Figure size 432x288 with 1 Axes>"
      ]
     },
     "metadata": {
      "needs_background": "light"
     },
     "output_type": "display_data"
    }
   ],
   "source": [
    "error_dut, error_meas = my_dut.get_errordutcount()\n",
    "print(\"Total: \",t, \"s \", x+1, \" ( \", error_count, \" | \", error_dut, \" | \", error_meas, \" ) ==> \", (x+1-error_count)/(x+1) )\n",
    "print(my_err)\n",
    "# write json log\n",
    "# outfile = open('result.json', 'w')\n",
    "# json.dump(data, outfile, indent=2)\n",
    "\n",
    "# plot results\n",
    "timeAxis = [x / 3600. for x in X]\n",
    "plt.xlabel('time [h]')\n",
    "plt.plot(timeAxis,Y)\n",
    "plt.axhline(y=1., xmin=0, xmax=1, color='r')\n",
    "plt.show()"
   ]
  }
 ],
 "metadata": {
  "kernelspec": {
   "display_name": "Python 3",
   "language": "python",
   "name": "python3"
  },
  "language_info": {
   "codemirror_mode": {
    "name": "ipython",
    "version": 3
   },
   "file_extension": ".py",
   "mimetype": "text/x-python",
   "name": "python",
   "nbconvert_exporter": "python",
   "pygments_lexer": "ipython3",
   "version": "3.7.3"
  }
 },
 "nbformat": 4,
 "nbformat_minor": 4
}
