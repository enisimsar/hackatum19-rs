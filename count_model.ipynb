{
 "cells": [
  {
   "cell_type": "code",
   "execution_count": 2,
   "metadata": {
    "ExecuteTime": {
     "end_time": "2019-11-24T00:19:07.646177Z",
     "start_time": "2019-11-24T00:19:07.634862Z"
    }
   },
   "outputs": [],
   "source": [
    "import warnings\n",
    "warnings.filterwarnings(\"ignore\")\n",
    "\n",
    "import os\n",
    "\n",
    "os.environ['KMP_DUPLICATE_LIB_OK']='True'"
   ]
  },
  {
   "cell_type": "code",
   "execution_count": 7,
   "metadata": {
    "ExecuteTime": {
     "end_time": "2019-11-24T00:19:17.935893Z",
     "start_time": "2019-11-24T00:19:17.931331Z"
    }
   },
   "outputs": [],
   "source": [
    "import time\n",
    "from DUT import DUT\n",
    "import matplotlib.pyplot as plt\n",
    "import numpy as np\n",
    "import json\n",
    "import sys\n",
    "\n",
    "import pandas as pd\n"
   ]
  },
  {
   "cell_type": "code",
   "execution_count": 8,
   "metadata": {
    "ExecuteTime": {
     "end_time": "2019-11-24T00:19:18.138115Z",
     "start_time": "2019-11-24T00:19:18.123037Z"
    }
   },
   "outputs": [],
   "source": [
    "my_dut = DUT(20, True, 3.2)"
   ]
  },
  {
   "cell_type": "code",
   "execution_count": 9,
   "metadata": {
    "ExecuteTime": {
     "end_time": "2019-11-24T00:19:18.313870Z",
     "start_time": "2019-11-24T00:19:18.305534Z"
    }
   },
   "outputs": [],
   "source": [
    "expected_TN_rate = 3.5"
   ]
  },
  {
   "cell_type": "code",
   "execution_count": 10,
   "metadata": {
    "ExecuteTime": {
     "end_time": "2019-11-24T00:19:18.484797Z",
     "start_time": "2019-11-24T00:19:18.475035Z"
    }
   },
   "outputs": [],
   "source": [
    "n_train = 5000\n",
    "n_test = 20000 - n_train"
   ]
  },
  {
   "cell_type": "code",
   "execution_count": 11,
   "metadata": {
    "ExecuteTime": {
     "end_time": "2019-11-24T00:19:18.688855Z",
     "start_time": "2019-11-24T00:19:18.672889Z"
    }
   },
   "outputs": [
    {
     "name": "stdout",
     "output_type": "stream",
     "text": [
      "DUT: meas. time=  128.43814099999997  | measurements=  45  | ports=  12  | expected yield =  3.2\n"
     ]
    }
   ],
   "source": [
    "meastime, nmeas, nport, meas, ports, expyield = my_dut.info()\n",
    "print(\"DUT: meas. time= \", meastime, \" | measurements= \", nmeas, \" | ports= \", nport, \" | expected yield = \", expyield)"
   ]
  },
  {
   "cell_type": "code",
   "execution_count": 12,
   "metadata": {
    "ExecuteTime": {
     "end_time": "2019-11-24T00:19:18.849233Z",
     "start_time": "2019-11-24T00:19:18.839342Z"
    }
   },
   "outputs": [],
   "source": [
    "error_count = 0\n",
    "X = []\n",
    "Y = []\n",
    "t=0\n",
    "\n",
    "data= {}\n",
    "data['component']=[]"
   ]
  },
  {
   "cell_type": "code",
   "execution_count": 13,
   "metadata": {
    "ExecuteTime": {
     "end_time": "2019-11-24T00:19:19.029067Z",
     "start_time": "2019-11-24T00:19:19.022863Z"
    }
   },
   "outputs": [],
   "source": [
    "fails = []\n",
    "my_err = 0"
   ]
  },
  {
   "cell_type": "code",
   "execution_count": 14,
   "metadata": {
    "ExecuteTime": {
     "end_time": "2019-11-24T00:19:20.593407Z",
     "start_time": "2019-11-24T00:19:19.195037Z"
    }
   },
   "outputs": [
    {
     "name": "stdout",
     "output_type": "stream",
     "text": [
      "Calibration at  0.1  took  532.1566359999999  seconds.\n",
      "Calibration at  63406.97392400085  took  532.1566359999999  seconds.\n",
      "Calibration at  126480.46737600658  took  532.1566359999999  seconds.\n",
      "Calibration at  189951.40386501866  took  532.1566359999999  seconds.\n",
      "Calibration at  252390.55489503022  took  532.1566359999999  seconds.\n",
      "Calibration at  315311.24285699526  took  532.1566359999999  seconds.\n",
      "Calibration at  378137.2136869518  took  532.1566359999999  seconds.\n",
      "Calibration at  441090.83380390814  took  532.1566359999999  seconds.\n",
      "Calibration at  504284.04286186455  took  532.1566359999999  seconds.\n",
      "Calibration at  567742.3717218406  took  532.1566359999999  seconds.\n"
     ]
    }
   ],
   "source": [
    "for x in range(n_train):    \n",
    "    my_dut.new_dut()\n",
    "    dut={}\n",
    "    dut['dut_id'] = x\n",
    "    dut['measurements']=[]\n",
    "    \n",
    "    if x % 500 == 0:\n",
    "        my_dut.calibrate()\n",
    "        \n",
    "    toggle = True\n",
    "\n",
    "    for i in range(0, nmeas):\n",
    "        t, result, dist = my_dut.gen_meas_idx(i)\n",
    "        \n",
    "        if dist > 1: fails.append(i)\n",
    "        \n",
    "        measurement = {}\n",
    "        measurement['m_id'] = i\n",
    "        measurement['m_time'] = meas[i].meas_time\n",
    "        measurement['m_result'] = dist\n",
    "        dut['measurements'].append(measurement)\n",
    "                \n",
    "        if result == False and toggle:\n",
    "            toggle = False\n",
    "            my_err += 1\n",
    "            break\n",
    "\n",
    "    t, res, dist = my_dut.get_result()\n",
    "    dut['dut_result'] = res\n",
    "\n",
    "    data['component'].append(dut)\n",
    "\n",
    "    X.append(t)\n",
    "    Y.append(dist)\n",
    "    if not res:\n",
    "        error_count += 1"
   ]
  },
  {
   "cell_type": "code",
   "execution_count": 15,
   "metadata": {
    "ExecuteTime": {
     "end_time": "2019-11-24T00:19:20.606985Z",
     "start_time": "2019-11-24T00:19:20.595538Z"
    }
   },
   "outputs": [
    {
     "data": {
      "text/plain": [
       "array([40,  2,  8,  3,  4,  5, 20,  0,  1,  7, 33, 18, 28, 36, 17, 15, 13,\n",
       "       11,  9,  6, 16, 14, 10, 35, 26, 27, 32, 31, 39, 37, 34, 22, 29, 25,\n",
       "       24, 43, 21, 19, 30, 23, 38, 12, 41, 42, 44])"
      ]
     },
     "execution_count": 15,
     "metadata": {},
     "output_type": "execute_result"
    }
   ],
   "source": [
    "a, c = np.unique(fails, return_counts=True)\n",
    "indexes = np.zeros(nmeas)\n",
    "indexes[a] = c\n",
    "sorted_meas = np.argsort(-indexes)\n",
    "\n",
    "sorted_meas_en = enumerate(sorted_meas) #= sorted_meas # [:-sum(indexes < 1)]"
   ]
  },
  {
   "cell_type": "code",
   "execution_count": null,
   "metadata": {
    "ExecuteTime": {
     "start_time": "2019-11-24T00:19:19.591Z"
    }
   },
   "outputs": [
    {
     "name": "stdout",
     "output_type": "stream",
     "text": [
      "Calibration at  630890.4446348255  took  532.1566359999999  seconds.\n",
      "Calibration at  687327.3879957987  took  532.1566359999999  seconds.\n",
      "Calibration at  743425.950844772  took  532.1566359999999  seconds.\n",
      "Calibration at  799909.7880307457  took  532.1566359999999  seconds.\n",
      "Calibration at  856648.0241867192  took  532.1566359999999  seconds.\n",
      "Calibration at  913629.9147226926  took  532.1566359999999  seconds.\n",
      "Calibration at  969581.2135036662  took  532.1566359999999  seconds.\n",
      "Calibration at  1026558.9724236394  took  532.1566359999999  seconds.\n",
      "Calibration at  1083531.5698797537  took  532.1566359999999  seconds.\n",
      "Calibration at  1139818.577423952  took  532.1566359999999  seconds.\n",
      "Calibration at  1196378.085582152  took  532.1566359999999  seconds.\n",
      "Calibration at  1252907.9581263524  took  532.1566359999999  seconds.\n",
      "Calibration at  1309223.2354445516  took  532.1566359999999  seconds.\n",
      "Calibration at  1365461.3131767507  took  532.1566359999999  seconds.\n",
      "Calibration at  1421891.9052799507  took  532.1566359999999  seconds.\n",
      "Calibration at  1479124.6255771525  took  532.1566359999999  seconds.\n",
      "Calibration at  1535932.0055623527  took  532.1566359999999  seconds.\n",
      "Calibration at  1592114.9613625521  took  532.1566359999999  seconds.\n",
      "Calibration at  1648732.5339927522  took  532.1566359999999  seconds.\n",
      "Calibration at  1705654.7824319524  took  532.1566359999999  seconds.\n",
      "Calibration at  1762222.3582971522  took  532.1566359999999  seconds.\n",
      "Calibration at  1819144.3635403533  took  532.1566359999999  seconds.\n",
      "Calibration at  1875897.9214285542  took  532.1566359999999  seconds.\n",
      "Calibration at  1932805.8476347546  took  532.1566359999999  seconds.\n",
      "Calibration at  1989102.6952189542  took  532.1566359999999  seconds.\n",
      "Calibration at  2046160.8622471555  took  532.1566359999999  seconds.\n"
     ]
    }
   ],
   "source": [
    "for x in range(n_test):\n",
    "    my_dut.new_dut()\n",
    "    dut={}\n",
    "    dut['dut_id'] = x\n",
    "    dut['measurements']=[]\n",
    "\n",
    "    if x % 500 == 0:\n",
    "        my_dut.calibrate()\n",
    "    \n",
    "    incount = True\n",
    "    for j, i in sorted_meas_en:\n",
    "        t, result, dist = my_dut.gen_meas_idx(i, incount)\n",
    "        measurement = {}\n",
    "        measurement['m_id'] = i\n",
    "        measurement['m_time'] = meas[i].meas_time\n",
    "        measurement['m_result'] = dist\n",
    "        dut['measurements'].append(measurement)\n",
    "        #queue_cut = \n",
    "        if result == False or j > nmeas - sum(indexes < 1) :\n",
    "            if result == False and incount:\n",
    "                my_err +=1\n",
    "            incount = False\n",
    "\n",
    "    t, res, dist = my_dut.get_result()\n",
    "    dut['dut_result'] = res\n",
    "\n",
    "    data['component'].append(dut)\n",
    "\n",
    "    X.append(t)\n",
    "    Y.append(dist)\n",
    "    if not res:\n",
    "        error_count += 1"
   ]
  },
  {
   "cell_type": "code",
   "execution_count": null,
   "metadata": {
    "ExecuteTime": {
     "start_time": "2019-11-24T00:19:19.775Z"
    }
   },
   "outputs": [],
   "source": [
    "error_dut, error_meas = my_dut.get_errordutcount()\n",
    "print(\"Total: \",t, \"s \", x+1, \" ( \", error_count, \" | \", error_dut, \" | \", error_meas, \" ) ==> \", (x+1-error_count)/(x+1) )\n",
    "print(my_err)\n",
    "# write json log\n",
    "# outfile = open('result.json', 'w')\n",
    "# json.dump(data, outfile, indent=2)\n",
    "\n",
    "# plot results\n",
    "timeAxis = [x / 3600. for x in X]\n",
    "plt.xlabel('time [h]')\n",
    "plt.plot(timeAxis,Y)\n",
    "plt.axhline(y=1., xmin=0, xmax=1, color='r')\n",
    "plt.show()"
   ]
  },
  {
   "cell_type": "code",
   "execution_count": null,
   "metadata": {
    "ExecuteTime": {
     "start_time": "2019-11-24T00:19:19.982Z"
    }
   },
   "outputs": [],
   "source": [
    "len(meas)"
   ]
  },
  {
   "cell_type": "code",
   "execution_count": null,
   "metadata": {},
   "outputs": [],
   "source": []
  },
  {
   "cell_type": "code",
   "execution_count": null,
   "metadata": {},
   "outputs": [],
   "source": []
  }
 ],
 "metadata": {
  "kernelspec": {
   "display_name": "Python 3",
   "language": "python",
   "name": "python3"
  },
  "language_info": {
   "codemirror_mode": {
    "name": "ipython",
    "version": 3
   },
   "file_extension": ".py",
   "mimetype": "text/x-python",
   "name": "python",
   "nbconvert_exporter": "python",
   "pygments_lexer": "ipython3",
   "version": "3.6.0"
  }
 },
 "nbformat": 4,
 "nbformat_minor": 4
}
